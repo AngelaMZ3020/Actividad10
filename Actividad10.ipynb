{
 "cells": [
  {
   "cell_type": "code",
   "execution_count": 1,
   "metadata": {},
   "outputs": [],
   "source": [
    "from math import cos\n",
    "from scipy.integrate import ode\n",
    "import pandas as pd\n",
    "import numpy as np\n",
    "import matplotlib\n",
    "import matplotlib.pyplot as plt\n",
    "import seaborn as sns\n",
    "import datetime \n",
    "import matplotlib.dates as mdates\n",
    "# Usar \"Shift+Enter\" para procesar la información de la celda"
   ]
  },
  {
   "cell_type": "markdown",
   "metadata": {},
   "source": [
    "La ecuación de Duffing, es una ecuación diferencial no lineal que describe el movimiento de un oscilador con amortiguamiento, con coeficiente de elasticidad no lineal y al cual se le aplica un forzamiento periódico, \n",
    "\n",
    "          x´´ + δ x´ + α x + β x³ =  γ cos (ω t)\n",
    "\n",
    "donde α (rigidez) , β (no linearidad) , γ (amplitud de forzamiento), δ (amortiguamiento) y ω (frecuencia de forzamiento) son constantes."
   ]
  },
  {
   "cell_type": "markdown",
   "metadata": {},
   "source": [
    "En esta actividad se pide resolver numéricamente la ecuación de Duffing utilizando la función ode de SciPy para reproducir dicha figura en el caso de que α = γ = 1.0 y amortiguamiento δ = 0.1\n",
    "\n",
    "Esta sistema muestra un comportamiento muy peculiar. La solución presenta una discontinuidad siguiendo rutas distintas, incrementando el valor de ω y luego disminuyéndolo. "
   ]
  },
  {
   "cell_type": "code",
   "execution_count": 2,
   "metadata": {},
   "outputs": [],
   "source": [
    "#Declaramos arreglos que contengan a las gráficas\n",
    "w = []\n",
    "graf = []\n",
    "\n",
    "        \n",
    "#Se definen las ecuaciones diferenciales y los parámetros.\n",
    "def f(t, z, p):\n",
    "    \"\"\"\"\n",
    "        Lado derecho de las ecuaciones diferenciales\n",
    "        dx/dt = y\n",
    "        dy/dt = - δ*y - α*x - β*x**3 + γ*cos(ω*t)\n",
    "\n",
    "    \"\"\"\n",
    "    δ, α, β, γ, ω = p                           \n",
    "    #Parámetros de la integral\n",
    "    x, y = z                                    \n",
    "    #Parámetros de integración\n",
    "    f = [y, - δ*y - α*x - β*x**3 + γ*cos(ω*t)]  \n",
    "    #Función a integrar\n",
    "\n",
    "    return f"
   ]
  },
  {
   "cell_type": "code",
   "execution_count": 3,
   "metadata": {},
   "outputs": [],
   "source": [
    "#Instancia para resolver la ecuación diferencial con el método 'dopri5'\n",
    "solver = ode(f)\n",
    "solver.set_integrator('dopri5')\n",
    "\n",
    "#Especificamos valores de β para obtener 4 movimientos.\n",
    "βi = [-0.003,0.0000000001,0.01,0.04]\n",
    "\n",
    "for j in range (0,len(βi)):\n",
    "    #Arreglos para cada w y x\n",
    "    wi=[]\n",
    "    grafi=[]\n",
    "    for i in range(0,251):\n",
    "        #Especificamos los parámetros de la ecuación a nuestra función\n",
    "        γ = 1.0\n",
    "        α = 1.0        \n",
    "        δ = 0.1\n",
    "        ω = i*0.01\n",
    "        β = βi[j]\n",
    "        val = δ, α, β, γ, ω                      \n",
    "        solver.set_f_params(val)\n",
    "        #Fijamos z(0) = z0\n",
    "        t0 = 0.0\n",
    "        z0 = [1.0, 0]\n",
    "        solver.set_initial_value(z0, t0)\n",
    "        #Creamos un arreglo del tiempo para evaluar la solución y otro para almacenar los valores.\n",
    "        t1 = 40\n",
    "        n = 400\n",
    "        t = np.linspace(t0, t1, n)\n",
    "        sol = np.empty((n, 2))\n",
    "        sol[0] = z0\n",
    "        #Llamamos al integrador para que avance en la solución un tiempo 'k'\n",
    "        k = 1\n",
    "        while solver.successful() and solver.t < t1:\n",
    "            solver.integrate(t[k])\n",
    "            sol[k] = solver.y\n",
    "            k += 1\n",
    "        x = sol[:,0]\n",
    "        wi.append(ω)\n",
    "        grafi.append(max(abs(x)))\n",
    "    #Almacenamos los arreglos\n",
    "    w.append(wi)\n",
    "    graf.append(grafi)"
   ]
  },
  {
   "cell_type": "code",
   "execution_count": 5,
   "metadata": {},
   "outputs": [
    {
     "data": {
      "image/png": "[encoded data removed]",
      "text/plain": [
       "<Figure size 432x288 with 1 Axes>"
      ]
     },
     "metadata": {
      "needs_background": "light"
     },
     "output_type": "display_data"
    }
   ],
   "source": [
    "#En una sola gráfica, graficamos los 4 movimientos con distintas β´s.\n",
    "plt.plot(w[0],graf[0],label=\"β=-0.003\")\n",
    "plt.plot(w[1],graf[1],label=\"β=0.0000000001\")\n",
    "plt.plot(w[2],graf[2],label=\"β=0.01\")\n",
    "plt.plot(w[3],graf[3],label=\"β=0.04\")\n",
    "\n",
    "#Agregamos títulos a los ejes.\n",
    "plt.xlabel(\"ω/√α\")\n",
    "plt.ylabel(\"z/γ\")\n",
    "plt.grid(True)\n",
    "plt.legend()\n",
    "plt.show()"
   ]
  },
  {
   "cell_type": "code",
   "execution_count": null,
   "metadata": {},
   "outputs": [],
   "source": []
  }
 ],
 "metadata": {
  "kernelspec": {
   "display_name": "Python 3",
   "language": "python",
   "name": "python3"
  },
  "language_info": {
   "codemirror_mode": {
    "name": "ipython",
    "version": 3
   },
   "file_extension": ".py",
   "mimetype": "text/x-python",
   "name": "python",
   "nbconvert_exporter": "python",
   "pygments_lexer": "ipython3",
   "version": "3.7.3"
  }
 },
 "nbformat": 4,
 "nbformat_minor": 2
}
